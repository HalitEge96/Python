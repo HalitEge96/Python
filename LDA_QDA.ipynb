{
  "nbformat": 4,
  "nbformat_minor": 0,
  "metadata": {
    "colab": {
      "name": "Basak_LDA_QDA",
      "provenance": [],
      "collapsed_sections": []
    },
    "kernelspec": {
      "name": "python3",
      "display_name": "Python 3"
    },
    "language_info": {
      "name": "python"
    }
  },
  "cells": [
    {
      "cell_type": "code",
      "source": [
        "import pandas as pd\n",
        "import numpy as np\n",
        "import matplotlib.pyplot as plt\n",
        "\n",
        "import sklearn.preprocessing as skl_pre\n",
        "import sklearn.linear_model as skl_lm\n",
        "import sklearn.discriminant_analysis as skl_da\n",
        "import sklearn.neighbors as skl_nb\n",
        "from sklearn.datasets import make_classification\n",
        "from sklearn.model_selection import GridSearchCV\n",
        "from sklearn.model_selection import RepeatedStratifiedKFold\n",
        "from sklearn.discriminant_analysis import LinearDiscriminantAnalysis\n",
        "from sklearn.model_selection import RandomizedSearchCV\n",
        "\n",
        "#from IPython.display import set_matplotlib_formats\n",
        "#set_matplotlib_formats('png')\n",
        "from IPython.core.pylabtools import figsize\n",
        "figsize(10, 6) # Width and hight\n",
        "#plt.style.use('seaborn-white')"
      ],
      "metadata": {
        "id": "I_4Y4VIYu8ME"
      },
      "execution_count": null,
      "outputs": []
    },
    {
      "cell_type": "code",
      "source": [
        "url = 'https://raw.githubusercontent.com/Ari-vu/SML/main/Given_data/train.csv'\n",
        "data = pd.read_csv(url)"
      ],
      "metadata": {
        "id": "3-wNHM8Kx_Qv"
      },
      "execution_count": null,
      "outputs": []
    },
    {
      "cell_type": "code",
      "source": [
        "#sampling indices for training\n",
        "np.random.seed(1)\n",
        "trainI = np.random.choice(data.shape[0], size=500, replace=False) \n",
        "trainIndex = data.index.isin(trainI)\n",
        "train = data.iloc[trainIndex] # training set\n",
        "test = data.iloc[~trainIndex] # test set"
      ],
      "metadata": {
        "id": "jl7qEHmOynYl"
      },
      "execution_count": null,
      "outputs": []
    },
    {
      "cell_type": "markdown",
      "source": [
        "\n",
        "\n",
        "LDA"
      ],
      "metadata": {
        "id": "tzgnlCU4zTM_"
      }
    },
    {
      "cell_type": "code",
      "source": [
        "model = skl_da.LinearDiscriminantAnalysis()\n",
        "X_train = train[['Number words female', 'Total words', 'Number of words lead', 'Difference in words lead and co-lead', 'Number of male actors', 'Year', 'Number of female actors', 'Number words male', 'Gross', 'Mean Age Male', 'Mean Age Female', 'Age Lead', 'Age Co-Lead']]\n",
        "Y_train = train['Lead']\n",
        "X_test = test[['Number words female', 'Total words', 'Number of words lead', 'Difference in words lead and co-lead', 'Number of male actors', 'Year', 'Number of female actors', 'Number words male', 'Gross', 'Mean Age Male', 'Mean Age Female', 'Age Lead', 'Age Co-Lead']]\n",
        "Y_test = test['Lead']\n",
        "model.fit(X_train, Y_train)"
      ],
      "metadata": {
        "id": "qkckPIPQzU0N",
        "colab": {
          "base_uri": "https://localhost:8080/"
        },
        "outputId": "5d74dc49-c984-4959-d72c-e66b61f2a8ec"
      },
      "execution_count": null,
      "outputs": [
        {
          "output_type": "execute_result",
          "data": {
            "text/plain": [
              "LinearDiscriminantAnalysis()"
            ]
          },
          "metadata": {},
          "execution_count": 50
        }
      ]
    },
    {
      "cell_type": "code",
      "source": [
        "predict_prob = model.predict_proba(X_test)\n",
        "print('The class order in the model:')\n",
        "print(model.classes_)\n",
        "print('Examples of predicted probablities for the above classes:') \n",
        "with np.printoptions(suppress=True, precision=3): # Supress scienti fic notaion, e.g. 1.0e-2.\n",
        "  print(predict_prob[0:5]) # inspect the first 5 predictions"
      ],
      "metadata": {
        "id": "MgqMHsUzkwbf",
        "colab": {
          "base_uri": "https://localhost:8080/"
        },
        "outputId": "cb72d4a3-891f-4c0f-f42c-a5fee5e803d9"
      },
      "execution_count": null,
      "outputs": [
        {
          "output_type": "stream",
          "name": "stdout",
          "text": [
            "The class order in the model:\n",
            "['Female' 'Male']\n",
            "Examples of predicted probablities for the above classes:\n",
            "[[0.083 0.917]\n",
            " [0.173 0.827]\n",
            " [0.02  0.98 ]\n",
            " [0.529 0.471]\n",
            " [0.008 0.992]]\n"
          ]
        }
      ]
    },
    {
      "cell_type": "code",
      "source": [
        "model.get_params()"
      ],
      "metadata": {
        "colab": {
          "base_uri": "https://localhost:8080/"
        },
        "id": "cyILpzMaUY7O",
        "outputId": "11a64f03-3e85-438b-9680-f5d606c03cc5"
      },
      "execution_count": null,
      "outputs": [
        {
          "output_type": "execute_result",
          "data": {
            "text/plain": [
              "{'covariance_estimator': None,\n",
              " 'n_components': None,\n",
              " 'priors': None,\n",
              " 'shrinkage': None,\n",
              " 'solver': 'svd',\n",
              " 'store_covariance': False,\n",
              " 'tol': 0.0001}"
            ]
          },
          "metadata": {},
          "execution_count": 53
        }
      ]
    },
    {
      "cell_type": "code",
      "source": [
        "prediction = np.empty(len(X_test), dtype=object)\n",
        "prediction = np.where(predict_prob[:, 0]>=0.5, 'Female', 'Male')\n",
        "prediction[0:5] # Inspect the first 5 predictions after labeling"
      ],
      "metadata": {
        "id": "8AlxJk2QmmFr",
        "colab": {
          "base_uri": "https://localhost:8080/"
        },
        "outputId": "ac3cd39a-1863-433d-8b4b-6c874b17c4ae"
      },
      "execution_count": null,
      "outputs": [
        {
          "output_type": "execute_result",
          "data": {
            "text/plain": [
              "array(['Male', 'Male', 'Male', 'Female', 'Male'], dtype='<U6')"
            ]
          },
          "metadata": {},
          "execution_count": 54
        }
      ]
    },
    {
      "cell_type": "code",
      "source": [
        "# Confusion matrix\n",
        "print(\"Confusion matrix:\\n\") \n",
        "print(pd.crosstab(prediction, Y_test), '\\n')\n",
        "# Accuracy\n",
        "print(f\"Accuracy: {np.mean(prediction == Y_test):.3f}\")"
      ],
      "metadata": {
        "colab": {
          "base_uri": "https://localhost:8080/"
        },
        "id": "ONy1CkRqm0Gu",
        "outputId": "b74a655f-c88c-4f3e-ab22-7492a0adb38b"
      },
      "execution_count": null,
      "outputs": [
        {
          "output_type": "stream",
          "name": "stdout",
          "text": [
            "Confusion matrix:\n",
            "\n",
            "Lead    Female  Male\n",
            "row_0               \n",
            "Female      71    20\n",
            "Male        63   385 \n",
            "\n",
            "Accuracy: 0.846\n"
          ]
        }
      ]
    },
    {
      "cell_type": "code",
      "source": [
        "solvers = ['svd', 'lsqr', 'eigen']\n",
        "\n",
        "random_grid = {'solver': solvers}"
      ],
      "metadata": {
        "id": "l8oIJNMuh8JQ"
      },
      "execution_count": null,
      "outputs": []
    },
    {
      "cell_type": "code",
      "source": [
        "CV = RandomizedSearchCV(estimator=model, param_distributions=random_grid, n_iter=10, cv=3, verbose=2, random_state=1, n_jobs=-1)\n",
        "CV.fit(X_train, Y_train)"
      ],
      "metadata": {
        "colab": {
          "base_uri": "https://localhost:8080/"
        },
        "id": "mGEf4yMoiM3I",
        "outputId": "1d42968d-92da-4766-f53e-1149988b087e"
      },
      "execution_count": null,
      "outputs": [
        {
          "output_type": "stream",
          "name": "stdout",
          "text": [
            "Fitting 3 folds for each of 3 candidates, totalling 9 fits\n"
          ]
        },
        {
          "output_type": "stream",
          "name": "stderr",
          "text": [
            "/usr/local/lib/python3.7/dist-packages/sklearn/model_selection/_search.py:296: UserWarning: The total space of parameters 3 is smaller than n_iter=10. Running 3 iterations. For exhaustive searches, use GridSearchCV.\n",
            "  UserWarning,\n"
          ]
        },
        {
          "output_type": "execute_result",
          "data": {
            "text/plain": [
              "RandomizedSearchCV(cv=3, estimator=LinearDiscriminantAnalysis(), n_jobs=-1,\n",
              "                   param_distributions={'solver': ['svd', 'lsqr', 'eigen']},\n",
              "                   random_state=1, verbose=2)"
            ]
          },
          "metadata": {},
          "execution_count": 57
        }
      ]
    },
    {
      "cell_type": "code",
      "source": [
        "CV.best_params_"
      ],
      "metadata": {
        "colab": {
          "base_uri": "https://localhost:8080/"
        },
        "id": "5V25YFkFipOW",
        "outputId": "6ba45b05-e33e-448f-b1a1-659c48d584f5"
      },
      "execution_count": null,
      "outputs": [
        {
          "output_type": "execute_result",
          "data": {
            "text/plain": [
              "{'solver': 'svd'}"
            ]
          },
          "metadata": {},
          "execution_count": 58
        }
      ]
    },
    {
      "cell_type": "markdown",
      "source": [
        "Default values are the best"
      ],
      "metadata": {
        "id": "_s-jy1pMjgBX"
      }
    },
    {
      "cell_type": "markdown",
      "source": [
        "QDA"
      ],
      "metadata": {
        "id": "oEaQrSlgoJis"
      }
    },
    {
      "cell_type": "code",
      "source": [
        "model = skl_da.QuadraticDiscriminantAnalysis() \n",
        "model.fit(X_train, Y_train)"
      ],
      "metadata": {
        "colab": {
          "base_uri": "https://localhost:8080/"
        },
        "id": "tHvfD84roKpu",
        "outputId": "05fb30f2-fc9d-42c0-d5e0-34842a19294e"
      },
      "execution_count": null,
      "outputs": [
        {
          "output_type": "stream",
          "name": "stderr",
          "text": [
            "/usr/local/lib/python3.7/dist-packages/sklearn/discriminant_analysis.py:878: UserWarning: Variables are collinear\n",
            "  warnings.warn(\"Variables are collinear\")\n"
          ]
        },
        {
          "output_type": "execute_result",
          "data": {
            "text/plain": [
              "QuadraticDiscriminantAnalysis()"
            ]
          },
          "metadata": {},
          "execution_count": 59
        }
      ]
    },
    {
      "cell_type": "code",
      "source": [
        "predict_prob = model.predict_proba(X_test)\n",
        "print('The class order in the model:')\n",
        "print(model.classes_, '\\n')\n",
        "print('Examples of predicted probablities for the above classes:') \n",
        "with np.printoptions(suppress=True, precision=3):\n",
        "  print(predict_prob[0:5]) # inspect the first 5 predictions"
      ],
      "metadata": {
        "colab": {
          "base_uri": "https://localhost:8080/"
        },
        "id": "9QsO9MgKoX3T",
        "outputId": "94a26d8c-7176-4ab1-b27b-7dbde4078cd4"
      },
      "execution_count": null,
      "outputs": [
        {
          "output_type": "stream",
          "name": "stdout",
          "text": [
            "The class order in the model:\n",
            "['Female' 'Male'] \n",
            "\n",
            "Examples of predicted probablities for the above classes:\n",
            "[[0.016 0.984]\n",
            " [0.038 0.962]\n",
            " [0.012 0.988]\n",
            " [0.358 0.642]\n",
            " [0.001 0.999]]\n"
          ]
        }
      ]
    },
    {
      "cell_type": "code",
      "source": [
        "prediction = np.empty(len(X_test), dtype=object)\n",
        "prediction = np.where(predict_prob[:, 0]>=0.5, 'Female', 'Male')\n",
        "print('First five predictions:')\n",
        "print(prediction[0:5], '\\n') # Inspect the first 5 predictions aft er labeling.\n",
        "# Confusion matrix\n",
        "print('Confusion matrix:\\n') \n",
        "print(pd.crosstab(prediction, Y_test), '\\n')\n",
        "# Accuracy\n",
        "print('Accuracy:')\n",
        "print(f\"{np.mean(prediction == Y_test):.3f}\")"
      ],
      "metadata": {
        "colab": {
          "base_uri": "https://localhost:8080/"
        },
        "id": "T_yFXq2Pomvb",
        "outputId": "c80c8bcc-2977-4ed6-b55e-1a1e0529e623"
      },
      "execution_count": null,
      "outputs": [
        {
          "output_type": "stream",
          "name": "stdout",
          "text": [
            "First five predictions:\n",
            "['Male' 'Male' 'Male' 'Male' 'Male'] \n",
            "\n",
            "Confusion matrix:\n",
            "\n",
            "Lead    Female  Male\n",
            "row_0               \n",
            "Female      98    36\n",
            "Male        36   369 \n",
            "\n",
            "Accuracy:\n",
            "0.866\n"
          ]
        }
      ]
    }
  ]
}